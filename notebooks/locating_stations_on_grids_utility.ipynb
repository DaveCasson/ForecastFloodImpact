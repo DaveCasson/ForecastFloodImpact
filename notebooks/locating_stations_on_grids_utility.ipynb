{
 "cells": [
  {
   "attachments": {},
   "cell_type": "markdown",
   "id": "b2bfeb70-97fb-4ebe-8d81-7a542c09edfd",
   "metadata": {},
   "source": [
    "# Locating gauge stations on MSC model grids\n",
    "\n"
   ]
  },
  {
   "attachments": {},
   "cell_type": "markdown",
   "id": "d7c94043",
   "metadata": {},
   "source": [
    "Please note the original source of these scripts: https://github.com/NHS-Dev/geomet-nsrps-streamflow-tutorials/blob/main/Python/locating-stations-on-grids.ipynb\n",
    "\n",
    "This simplified version is used to simply obtain updated coordinates for gauges of interest."
   ]
  },
  {
   "attachments": {},
   "cell_type": "markdown",
   "id": "1bd2f3fc",
   "metadata": {},
   "source": [
    "## General requirements"
   ]
  },
  {
   "cell_type": "code",
   "execution_count": 24,
   "id": "b4f3f7c7-4e0c-46f3-b13f-6287c15f69a1",
   "metadata": {},
   "outputs": [],
   "source": [
    "# data\n",
    "\n",
    "import xarray as xr \n",
    "import pandas as pd\n",
    "\n"
   ]
  },
  {
   "attachments": {},
   "cell_type": "markdown",
   "id": "0b93e6cd",
   "metadata": {},
   "source": [
    "## Finding stations on the DHPS model grid"
   ]
  },
  {
   "cell_type": "code",
   "execution_count": 25,
   "id": "ebcfcfb8",
   "metadata": {},
   "outputs": [],
   "source": [
    "gridded_data = xr.open_dataset('../gis_data/sample_analysis.nc')\n",
    "stations = pd.read_csv('../gis_data/Bow_hydrometric_stns_select.csv')"
   ]
  },
  {
   "cell_type": "code",
   "execution_count": 26,
   "id": "902fbbec",
   "metadata": {},
   "outputs": [
    {
     "name": "stdout",
     "output_type": "stream",
     "text": [
      "For station: 05BB001, original lat-lon 51.17223, -115.57177\n",
      "Updated lat-lon: 51.17372881355932, -115.57568238213399\n",
      "For station: 05BG010, original lat-lon 51.27003, -114.92553\n",
      "Updated lat-lon: 51.266949152542374, -114.92059553349876\n",
      "For station: 05BH004, original lat-lon 51.05027, -114.05146\n",
      "Updated lat-lon: 51.04661016949153, -114.04714640198512\n",
      "For station: 05BJ001, original lat-lon 51.01279, -114.0932\n",
      "Updated lat-lon: 51.01271186440678, -114.09677419354838\n",
      "For station: 05BJ004, original lat-lon 50.94851, -114.56986\n",
      "Updated lat-lon: 50.94491525423729, -114.57320099255584\n"
     ]
    }
   ],
   "source": [
    "\n",
    "# function to relate the CCMEP station location to its grid location\n",
    "def find_stn_on_grid(latstn, lonstn):\n",
    "    \n",
    "    # find grid lat\n",
    "    closest_lat_idx = (np.abs(gridded_data.lat.data - latstn)).argmin()\n",
    "    lat = gridded_data.lat.data[closest_lat_idx]\n",
    "    \n",
    "    # find grid lon\n",
    "    closest_lon_idx = (np.abs(gridded_data.lon.data - lonstn)).argmin()\n",
    "    lon = gridded_data.lon.data[closest_lon_idx]\n",
    "    \n",
    "    return lat, lon\n",
    "\n",
    "for i in range(0, len(stations.ID)):\n",
    "    print(f'For station: {stations.ID[i]}, original lat-lon {stations.Latitude[i]}, {stations.Longitude[i]}')\n",
    "    grid_lat, grid_lon = find_stn_on_grid(stations.Latitude[i], stations.Longitude[i])\n",
    "    print(f'Updated lat-lon: {grid_lat}, {grid_lon}')\n"
   ]
  }
 ],
 "metadata": {
  "kernelspec": {
   "display_name": "Python 3 (ipykernel)",
   "language": "python",
   "name": "python3"
  },
  "language_info": {
   "codemirror_mode": {
    "name": "ipython",
    "version": 3
   },
   "file_extension": ".py",
   "mimetype": "text/x-python",
   "name": "python",
   "nbconvert_exporter": "python",
   "pygments_lexer": "ipython3",
   "version": "3.9.16"
  }
 },
 "nbformat": 4,
 "nbformat_minor": 5
}
