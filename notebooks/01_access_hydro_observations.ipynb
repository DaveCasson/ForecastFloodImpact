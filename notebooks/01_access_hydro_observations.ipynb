{
 "cells": [
  {
   "attachments": {},
   "cell_type": "markdown",
   "metadata": {},
   "source": [
    "## Access Hydrological Observations\n",
    "\n",
    "This notebook is used access hydrological data from the Meterological Services Canada API.\n",
    "This is includes:\n",
    "- Real time gauge data for discharge and water level\n",
    "- Historic daily discharge\n",
    "- Annual statistics for discharge and water level\n",
    "\n",
    "It was developed using helpful, open access information provided by [MSC GeoMet services](https://eccc-msc.github.io/open-data/usage/use-case_oafeat/use-case_oafeat-script_en/)."
   ]
  },
  {
   "cell_type": "code",
   "execution_count": null,
   "metadata": {},
   "outputs": [],
   "source": [
    "# Import needed modules\n",
    "import sys\n",
    "import pandas as pd\n",
    "from pathlib import Path\n",
    "import yaml\n",
    "\n",
    "# Import local scripts\n",
    "sys.path.append('../scripts')\n",
    "from geospatial_plotting import plot_watershed_flowlines_stations\n",
    "from scalar_data_access import retrieve_data_from_api\n",
    "from hydrograph_plotting import plot_detailed_hydrograph\n",
    "# Plot in notebook\n",
    "%matplotlib inline\n",
    "\n",
    "# Set up logger\n",
    "import logging\n",
    "logging.basicConfig(level=logging.INFO)\n",
    "logger = logging.getLogger(__name__)\n",
    "\n",
    "#Suppress info from matplotlib\n",
    "logging.getLogger('matplotlib.category').disabled = True\n",
    "\n",
    "# add autoreload to automatically reload modules when they change\n",
    "%load_ext autoreload\n",
    "%autoreload 2"
   ]
  },
  {
   "attachments": {},
   "cell_type": "markdown",
   "metadata": {},
   "source": [
    "### Read settings configuration file"
   ]
  },
  {
   "cell_type": "code",
   "execution_count": null,
   "metadata": {},
   "outputs": [],
   "source": [
    "config_file = \"../settings/general_settings.yaml\"\n",
    "\n",
    "# Read settings from yaml file\n",
    "with open(config_file, 'r') as ymlfile:\n",
    "    config = yaml.load(ymlfile, Loader=yaml.FullLoader)\n",
    "\n",
    "# Set variables, this can be replaced by a config file. To be discussed\n",
    "api_url = config['msc_open_data_settings']['api_url']\n",
    "\n",
    "# Set up paths \n",
    "gis_data_dir = config['paths']['gis_data']\n",
    "output_dir = Path(config['paths']['output_dir'])\n",
    "output_dir.mkdir(parents=True, exist_ok=True)\n",
    "\n",
    "# Set up paths to gis data\n",
    "stations_csv = Path(gis_data_dir, config['gis_data']['hydro_stns_csv'])\n",
    "watershed_shp = Path(gis_data_dir, config['gis_data']['basins_shp'])\n",
    "flowlines_shp = Path(gis_data_dir, config['gis_data']['flowlines_shp'])\n"
   ]
  },
  {
   "attachments": {},
   "cell_type": "markdown",
   "metadata": {},
   "source": [
    "### Plot watersheds and stations"
   ]
  },
  {
   "cell_type": "code",
   "execution_count": null,
   "metadata": {},
   "outputs": [],
   "source": [
    "plot_watershed_flowlines_stations(watershed_shp, flowlines_shp, stations_csv)"
   ]
  },
  {
   "attachments": {},
   "cell_type": "markdown",
   "metadata": {},
   "source": [
    "## Define stations to be imported\n",
    "\n",
    "Hydrometric station data can be accessed and downloaded.\n",
    "This is for near real time data as well as historic record.\n",
    "\n",
    "In this notebook, the stations are read from a provided csv file.\n",
    "This could be substituted with any list of stations. Station information can also be pulled from the MSC API."
   ]
  },
  {
   "cell_type": "code",
   "execution_count": null,
   "metadata": {},
   "outputs": [],
   "source": [
    "# Read in the list of hydrometric stations\n",
    "hydro_stations_df = pd.read_csv(stations_csv)\n",
    "search_stations = hydro_stations_df[\"ID\"].tolist()\n",
    "\n",
    "logger.info(f'Search stations: {hydro_stations_df}')"
   ]
  },
  {
   "attachments": {},
   "cell_type": "markdown",
   "metadata": {},
   "source": [
    "### Download Real Time Hydrometric Data "
   ]
  },
  {
   "cell_type": "code",
   "execution_count": null,
   "metadata": {},
   "outputs": [],
   "source": [
    "collection = 'hydrometric-realtime'\n",
    "datetime_column = \"DATETIME\"\n",
    "\n",
    "download_variable = \"DISCHARGE\"\n",
    "real_time_discharge_stations = retrieve_data_from_api(search_stations, collection, download_variable, datetime_column, api_url, output_dir)\n",
    "\n",
    "download_variable = \"LEVEL\"\n",
    "real_time_level_stations = retrieve_data_from_api(search_stations, collection, download_variable, datetime_column, api_url, output_dir)\n"
   ]
  },
  {
   "attachments": {},
   "cell_type": "markdown",
   "metadata": {},
   "source": [
    "### Download Historic Daily Mean Data"
   ]
  },
  {
   "cell_type": "code",
   "execution_count": null,
   "metadata": {},
   "outputs": [],
   "source": [
    "collection = 'hydrometric-daily-mean'\n",
    "datetime_column = \"DATE\"\n",
    "\n",
    "download_variable = \"DISCHARGE\"\n",
    "other_variables = ['DISCHARGE_SYMBOL_EN']\n",
    "historic_discharge_stations = retrieve_data_from_api(search_stations, collection, download_variable, datetime_column, api_url, output_dir,other_variables)\n",
    "\n",
    "download_variable = \"LEVEL\"\n",
    "other_variables = ['LEVEL_SYMBOL_EN']\n",
    "historic_level_stations = retrieve_data_from_api(search_stations, collection, download_variable, datetime_column, api_url, output_dir,other_variables)"
   ]
  },
  {
   "attachments": {},
   "cell_type": "markdown",
   "metadata": {},
   "source": [
    "### Download Annual Statistics"
   ]
  },
  {
   "cell_type": "code",
   "execution_count": null,
   "metadata": {},
   "outputs": [],
   "source": [
    "\n",
    "collection = 'hydrometric-annual-statistics'\n",
    "\n",
    "datetime_column='MAX_DATE'\n",
    "download_variable = 'MAX_VALUE'\n",
    "other_variables = ['MAX_SYMBOL_EN']\n",
    "max_annual_stations = retrieve_data_from_api(search_stations, collection, download_variable, datetime_column, api_url, output_dir,other_variables)\n",
    "\n",
    "datetime_column='MIN_DATE'\n",
    "download_variable = 'MIN_VALUE'\n",
    "other_variables = ['MIN_SYMBOL_EN']\n",
    "min_annual_stations = retrieve_data_from_api(search_stations, collection, download_variable, datetime_column, api_url, output_dir,other_variables)\n"
   ]
  },
  {
   "cell_type": "code",
   "execution_count": null,
   "metadata": {},
   "outputs": [],
   "source": [
    "variable = 'DISCHARGE'\n",
    "\n",
    "real_time_level_stations = ['05BH004']\n",
    "historic_level_stations = ['05BH004']\n",
    "\n",
    "#print(f'Real time stations with {variable} data: {real_time_discharge_stations}')\n",
    "\n",
    "for station_id in real_time_level_stations:\n",
    "    if station_id not in historic_level_stations:\n",
    "        continue\n",
    "    \n",
    "    historic_df = pd.read_csv(f'{output_dir}/hydrometric-daily-mean/{station_id}_{variable}.csv')\n",
    "    realtime_df = pd.read_csv(f'{output_dir}/hydrometric-realtime/{station_id}_{variable}.csv')\n",
    "    png_path = f'{output_dir}/{station_id}_{variable}_hydrograph.png'\n",
    "\n",
    "    plot_detailed_hydrograph(station_id,variable, historic_df, realtime_df, save_png=True, png_path=png_path)"
   ]
  }
 ],
 "metadata": {
  "kernelspec": {
   "display_name": "forecastfloodimpact",
   "language": "python",
   "name": "python3"
  },
  "language_info": {
   "codemirror_mode": {
    "name": "ipython",
    "version": 3
   },
   "file_extension": ".py",
   "mimetype": "text/x-python",
   "name": "python",
   "nbconvert_exporter": "python",
   "pygments_lexer": "ipython3",
   "version": "3.9.16"
  },
  "orig_nbformat": 4
 },
 "nbformat": 4,
 "nbformat_minor": 2
}
