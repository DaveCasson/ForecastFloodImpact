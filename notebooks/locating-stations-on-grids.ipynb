{
 "cells": [
  {
   "attachments": {},
   "cell_type": "markdown",
   "id": "b2bfeb70-97fb-4ebe-8d81-7a542c09edfd",
   "metadata": {},
   "source": [
    "# Locating gauge stations on MSC model grids\n",
    "\n"
   ]
  },
  {
   "attachments": {},
   "cell_type": "markdown",
   "id": "d7c94043",
   "metadata": {},
   "source": [
    "This tutorial demonstrates how to find gauge stations on the NSRPS model grid using the Web Coverage Service (WCS). If this is your first time accessing GeoMet's Web Coverage Service, we recommend first reading the geomet-auth-wcs-quick-demo tutorial. For more detailed information about accessing secured layers with the Web Map Service and Web Coverage Service we recommend reading our more comprehensive tutorials, geomet-auth-wms-examples and geomet-auth-wms-examples."
   ]
  },
  {
   "attachments": {},
   "cell_type": "markdown",
   "id": "1bd2f3fc",
   "metadata": {},
   "source": [
    "## General requirements"
   ]
  },
  {
   "cell_type": "code",
   "execution_count": 2,
   "id": "b4f3f7c7-4e0c-46f3-b13f-6287c15f69a1",
   "metadata": {},
   "outputs": [],
   "source": [
    "# data\n",
    "import warnings\n",
    "import re\n",
    "import time\n",
    "import configparser\n",
    "from datetime import datetime, timedelta\n",
    "import xarray as xr \n",
    "import pandas as pd\n",
    "import numpy as np\n",
    "from shapely.geometry import Point\n",
    "\n",
    "# web map services \n",
    "from owslib.wms import WebMapService\n",
    "from owslib.wcs import WebCoverageService\n",
    "from owslib.wcs import Authentication\n",
    "from owslib.ogcapi.features import Features\n",
    "\n",
    "# plotting\n",
    "#import holoviews\n",
    "#import hvplot.xarray\n",
    "#import hvplot.pandas"
   ]
  },
  {
   "cell_type": "code",
   "execution_count": 3,
   "id": "a141c6f7",
   "metadata": {},
   "outputs": [],
   "source": [
    "# loading login information\n",
    "config = configparser.ConfigParser()\n",
    "config.read_file(open('config.cfg')) \n",
    "\n",
    "login = config['Login']"
   ]
  },
  {
   "attachments": {},
   "cell_type": "markdown",
   "id": "ee9568d7",
   "metadata": {},
   "source": [
    "## Requesting latest DHPS predictions"
   ]
  },
  {
   "cell_type": "code",
   "execution_count": 25,
   "id": "fa3e9be7",
   "metadata": {},
   "outputs": [],
   "source": [
    "# Deterministic Hydrologic Prediction System (DHPS) is a sub-system of the NSRPS\n",
    "layer_name = 'DHPS-Analysis_1km_RiverDischarge'"
   ]
  },
  {
   "cell_type": "code",
   "execution_count": 26,
   "id": "dc44c9b0",
   "metadata": {},
   "outputs": [],
   "source": [
    "# first querying the WMS for time metadata\n",
    "wms = WebMapService(f'https://geo.weather.gc.ca/geomet?&SERVICE=WMS&LAYERS={layer_name}',\n",
    "                    version='1.3.0',\n",
    "                    auth=Authentication(username=login['Username'], password=login['Password']),\n",
    "                    timeout=300)"
   ]
  },
  {
   "cell_type": "code",
   "execution_count": 34,
   "id": "9bfa7a4c",
   "metadata": {},
   "outputs": [
    {
     "name": "stdout",
     "output_type": "stream",
     "text": [
      "['2024-01-26T12:00:00Z', '2024-01-26T12:00:00Z', 'PT0H']\n",
      "['2024-01-25T01:00:00Z', '2024-01-26T12:00:00Z', 'PT1H']\n"
     ]
    }
   ],
   "source": [
    "first_datetime, last_datetime, datetime_interval = wms[layer_name].dimensions['time']['values'][0].split('/')\n",
    "#oldest_fcast, newest_fcast, issue_interval = wms[layer_name].dimensions['reference_time']['values'][0].split('/')\n",
    "#first_datetime, last_datetime, datetime_interval = wms[layer_name].dimensions['reference_time']['values'][0].split('/')\n",
    "print(wms[layer_name].dimensions['time']['values'][0].split('/'))\n",
    "print(wms[layer_name].dimensions['reference_time']['values'][0].split('/'))"
   ]
  },
  {
   "cell_type": "code",
   "execution_count": 32,
   "id": "e22a9b81",
   "metadata": {},
   "outputs": [
    {
     "name": "stdout",
     "output_type": "stream",
     "text": [
      "['2024-01-26T12:00:00Z']\n"
     ]
    }
   ],
   "source": [
    "iso_format = \"%Y-%m-%dT%H:%M:%SZ\"\n",
    "\n",
    "# convert dates to datetime objects\n",
    "first = datetime.strptime(first_datetime, iso_format)\n",
    "last = datetime.strptime(last_datetime, iso_format)\n",
    "\n",
    "# remove anything that isn't a number from the datetime interval (time between forecasts)\n",
    "intvl = int(re.sub(r'\\D', '', datetime_interval))\n",
    "\n",
    "# create a list of forecast datetimes (we will add these to the requested data)\n",
    "fcasthrs = [first]\n",
    "while first < last:\n",
    "    first = first + timedelta(hours=intvl)\n",
    "    fcasthrs.append(first)\n",
    "\n",
    "# create a list of iso formatted forecast datetime strings (we will use these in the WCS requests)\n",
    "fcasthrs_str = [datetime.strftime(hr, iso_format) for hr in fcasthrs]\n",
    "print(fcasthrs_str)"
   ]
  },
  {
   "attachments": {},
   "cell_type": "markdown",
   "id": "5e7547e4",
   "metadata": {},
   "source": [
    "Note: the next cell may take a few minutes to run because several requests are being made."
   ]
  },
  {
   "cell_type": "code",
   "execution_count": 33,
   "id": "7b227c95",
   "metadata": {},
   "outputs": [],
   "source": [
    "wcs = WebCoverageService(f'https://geo.weather.gc.ca/geomet?&SERVICE=WCS&COVERAGEID={layer_name}', \n",
    "                    auth=Authentication(username=login['Username'], password=login['Password']),\n",
    "                    version='2.0.1',\n",
    "                    timeout=300\n",
    "                    )\n",
    "\n",
    "# local time\n",
    "time_zone = -7\n",
    "\n",
    "# for each forecast hour, make a WCS request\n",
    "arrys = []\n",
    "\n",
    "for i, hr in enumerate(fcasthrs_str):\n",
    "    response = wcs.getCoverage(identifier = [layer_name], \n",
    "                        format = 'image/netcdf', \n",
    "                        subsettingcrs = 'EPSG:4326', \n",
    "                        subsets = [('lat', 50, 52.0), ('lon', -117.0, -113.0)],\n",
    "                        DIM_REFERENCE_TIME=newest_fcast, \n",
    "                        TIME=hr \n",
    "                       )\n",
    "    \n",
    "    # read into an xarray\n",
    "    ds = xr.open_dataset(response.read()).load()\n",
    "    \n",
    "    # add the time metadata as a new dimension and coordinate\n",
    "    ds = ds.expand_dims(time=[fcasthrs[i] + timedelta(hours=time_zone)])\n",
    "    \n",
    "    # append to list of xarrays\n",
    "    arrys.append(ds)\n",
    "    \n",
    "fcasts = xr.concat([ds for ds in arrys], dim='time')\n"
   ]
  },
  {
   "cell_type": "code",
   "execution_count": 14,
   "id": "2f70a0c4",
   "metadata": {},
   "outputs": [],
   "source": [
    "fcasts.to_netcdf(f'{layer_name}_{first}.nc')\n"
   ]
  },
  {
   "cell_type": "code",
   "execution_count": 11,
   "id": "3cef3c30",
   "metadata": {},
   "outputs": [],
   "source": [
    "fcasts.to_netcdf('river_discharge.nc')"
   ]
  },
  {
   "attachments": {},
   "cell_type": "markdown",
   "id": "0b93e6cd",
   "metadata": {},
   "source": [
    "## Finding stations on the DHPS model grid"
   ]
  },
  {
   "attachments": {},
   "cell_type": "markdown",
   "id": "2fb144dd",
   "metadata": {},
   "source": [
    "In other tutorials, we've looked at the gridded DHPS data, but we may be more interested in the streamflow forecasts at specific stations. As an example, let's say we are interested in the flows at [Sturgeon River at McDougall Mills](https://wateroffice.ec.gc.ca/report/real_time_e.html?stn=05QA004). The following example demonstrates how we can extract the river discharge forecasts at our station of interest.\n"
   ]
  },
  {
   "attachments": {},
   "cell_type": "markdown",
   "id": "2fd57e08",
   "metadata": {},
   "source": [
    "Note: the station latitutdes and longitudes in the models (DHPS/EHPS/WCPS) may not be exactly the same as the actual stations' latitudes and longitudes. In some cases, the modellers have had to slightly adjust the stations' latitudes/longitudes to minimize drainage area errors. This is a by-product of creating a gridded stream network. As a result, to find the stations of interest on the model grid we need to know what latitudes/longitudes the modellers have assigned to each station. In this example, Sturgeon River at McDougall Mills has an actual lat/lon of 50.167222, -91.540556 (in decimal degrees). In the model, Sturgeon River has a lat/lon of 50.1701, -91.5418. In addition, the model's station lat/lon may not align perfectly with the lat/lon axes of the model grid. The lat/lon axes of the model grid specify the center point of each grid cell and a station's model location may not be located in the center of its grid cell. Therefore, to find the grid cell that contains our station of interest we need to identify the closest lat/lon center point to the model's station lat/lon."
   ]
  },
  {
   "cell_type": "code",
   "execution_count": 9,
   "id": "902fbbec",
   "metadata": {},
   "outputs": [],
   "source": [
    "# Sturgeon River at McDougall Mills\n",
    "\n",
    "# function to relate the CCMEP station location to its grid location\n",
    "def find_stn_on_grid(latstn, lonstn):\n",
    "    \n",
    "    # find grid lat\n",
    "    closest_lat_idx = (np.abs(fcasts.lat.data - latstn)).argmin()\n",
    "    lat = fcasts.lat.data[closest_lat_idx]\n",
    "    \n",
    "    # find grid lon\n",
    "    closest_lon_idx = (np.abs(fcasts.lon.data - lonstn)).argmin()\n",
    "    lon = fcasts.lon.data[closest_lon_idx]\n",
    "    \n",
    "    return lat, lon\n",
    "\n",
    "# CCMEP station locations\n",
    "latst = 50.1701 #48.85\n",
    "lonst = -91.5418 #92.723611\n",
    "\n",
    "# find the station on the grid\n",
    "lat, lon = find_stn_on_grid(latst, lonst)"
   ]
  },
  {
   "cell_type": "code",
   "execution_count": 10,
   "id": "d442086d",
   "metadata": {},
   "outputs": [
    {
     "data": {
      "text/plain": [
       "'CCMEP lat/lon (50.1701, -91.5418) | Grid lat/lon (50.1708, -91.5458)'"
      ]
     },
     "execution_count": 10,
     "metadata": {},
     "output_type": "execute_result"
    }
   ],
   "source": [
    "# compare the CCMEP station location and the grid station location\n",
    "ll_info = f\"CCMEP lat/lon ({str(latst)}, {str(lonst)}) | Grid lat/lon ({str(np.round(lat,4))}, {str(np.round(lon,4))})\"\n",
    "ll_info"
   ]
  },
  {
   "cell_type": "code",
   "execution_count": 11,
   "id": "44199519",
   "metadata": {},
   "outputs": [
    {
     "data": {},
     "metadata": {},
     "output_type": "display_data"
    },
    {
     "data": {
      "application/vnd.holoviews_exec.v0+json": "",
      "text/html": [
       "<div id='1002'>\n",
       "\n",
       "\n",
       "\n",
       "\n",
       "\n",
       "  <div class=\"bk-root\" id=\"956e5005-adc3-42d9-b6f2-d4ae938266b0\" data-root-id=\"1002\"></div>\n",
       "</div>\n",
       "<script type=\"application/javascript\">(function(root) {\n",
       "  function embed_document(root) {\n",
       "    var docs_json = {\"7abc8055-7e07-4a4c-a730-83b78483de37\":{\"defs\":[{\"extends\":null,\"module\":null,\"name\":\"ReactiveHTML1\",\"overrides\":[],\"properties\":[]},{\"extends\":null,\"module\":null,\"name\":\"FlexBox1\",\"overrides\":[],\"properties\":[{\"default\":\"flex-start\",\"kind\":null,\"name\":\"align_content\"},{\"default\":\"flex-start\",\"kind\":null,\"name\":\"align_items\"},{\"default\":\"row\",\"kind\":null,\"name\":\"flex_direction\"},{\"default\":\"wrap\",\"kind\":null,\"name\":\"flex_wrap\"},{\"default\":\"flex-start\",\"kind\":null,\"name\":\"justify_content\"}]},{\"extends\":null,\"module\":null,\"name\":\"GridStack1\",\"overrides\":[],\"properties\":[{\"default\":\"warn\",\"kind\":null,\"name\":\"mode\"},{\"default\":null,\"kind\":null,\"name\":\"ncols\"},{\"default\":null,\"kind\":null,\"name\":\"nrows\"},{\"default\":true,\"kind\":null,\"name\":\"allow_resize\"},{\"default\":true,\"kind\":null,\"name\":\"allow_drag\"},{\"default\":[],\"kind\":null,\"name\":\"state\"}]},{\"extends\":null,\"module\":null,\"name\":\"click1\",\"overrides\":[],\"properties\":[{\"default\":\"\",\"kind\":null,\"name\":\"terminal_output\"},{\"default\":\"\",\"kind\":null,\"name\":\"debug_name\"},{\"default\":0,\"kind\":null,\"name\":\"clears\"}]},{\"extends\":null,\"module\":null,\"name\":\"TemplateActions1\",\"overrides\":[],\"properties\":[{\"default\":0,\"kind\":null,\"name\":\"open_modal\"},{\"default\":0,\"kind\":null,\"name\":\"close_modal\"}]},{\"extends\":null,\"module\":null,\"name\":\"MaterialTemplateActions1\",\"overrides\":[],\"properties\":[{\"default\":0,\"kind\":null,\"name\":\"open_modal\"},{\"default\":0,\"kind\":null,\"name\":\"close_modal\"}]}],\"roots\":{\"references\":[{\"attributes\":{},\"id\":\"1038\",\"type\":\"Selection\"},{\"attributes\":{\"months\":[0,4,8]},\"id\":\"1071\",\"type\":\"MonthsTicker\"},{\"attributes\":{\"margin\":[5,5,5,5],\"name\":\"HSpacer01633\",\"sizing_mode\":\"stretch_width\"},\"id\":\"1003\",\"type\":\"Spacer\"},{\"attributes\":{\"line_alpha\":0.2,\"line_color\":\"#30a2da\",\"line_width\":2,\"x\":{\"field\":\"time\"},\"y\":{\"field\":\"Band1\"}},\"id\":\"1042\",\"type\":\"Line\"},{\"attributes\":{\"months\":[0,6]},\"id\":\"1072\",\"type\":\"MonthsTicker\"},{\"attributes\":{\"months\":[0,2,4,6,8,10]},\"id\":\"1070\",\"type\":\"MonthsTicker\"},{\"attributes\":{\"end\":1656266400000.0,\"reset_end\":1656266400000.0,\"reset_start\":1655751600000.0,\"start\":1655751600000.0,\"tags\":[[[\"time\",\"time\",null]]]},\"id\":\"1004\",\"type\":\"Range1d\"},{\"attributes\":{\"base\":60,\"mantissas\":[1,2,5,10,15,20,30],\"max_interval\":1800000.0,\"min_interval\":1000.0,\"num_minor_ticks\":0},\"id\":\"1063\",\"type\":\"AdaptiveTicker\"},{\"attributes\":{\"coordinates\":null,\"group\":null,\"text\":\"Sturgeon River at McDougall Mills | CCMEP lat/lon (50.1701, -91.5418) | Grid lat/lon (50.1708, -91.5458)\",\"text_color\":\"black\",\"text_font_size\":\"12pt\"},\"id\":\"1008\",\"type\":\"Title\"},{\"attributes\":{},\"id\":\"1051\",\"type\":\"AllLabels\"},{\"attributes\":{\"bottom_units\":\"screen\",\"coordinates\":null,\"fill_alpha\":0.5,\"fill_color\":\"lightgrey\",\"group\":null,\"left_units\":\"screen\",\"level\":\"overlay\",\"line_alpha\":1.0,\"line_color\":\"black\",\"line_dash\":[4,4],\"line_width\":2,\"right_units\":\"screen\",\"syncable\":false,\"top_units\":\"screen\"},\"id\":\"1029\",\"type\":\"BoxAnnotation\"},{\"attributes\":{},\"id\":\"1048\",\"type\":\"AllLabels\"},{\"attributes\":{\"end\":147.7482696533203,\"reset_end\":147.7482696533203,\"reset_start\":104.79857482910157,\"start\":104.79857482910157,\"tags\":[[[\"Band1\",\"GDAL Band Number 1\",null]]]},\"id\":\"1005\",\"type\":\"Range1d\"},{\"attributes\":{},\"id\":\"1050\",\"type\":\"BasicTickFormatter\"},{\"attributes\":{},\"id\":\"1073\",\"type\":\"YearsTicker\"},{\"attributes\":{\"axis\":{\"id\":\"1016\"},\"coordinates\":null,\"grid_line_color\":null,\"group\":null,\"ticker\":null},\"id\":\"1019\",\"type\":\"Grid\"},{\"attributes\":{},\"id\":\"1014\",\"type\":\"LinearScale\"},{\"attributes\":{\"axis\":{\"id\":\"1020\"},\"coordinates\":null,\"dimension\":1,\"grid_line_color\":null,\"group\":null,\"ticker\":null},\"id\":\"1023\",\"type\":\"Grid\"},{\"attributes\":{\"callback\":null,\"formatters\":{\"@{time}\":\"datetime\"},\"renderers\":[{\"id\":\"1043\"}],\"tags\":[\"hv_created\"],\"tooltips\":[[\"time\",\"@{time}{%F %T}\"],[\"GDAL Band Number 1\",\"@{Band1}\"]]},\"id\":\"1006\",\"type\":\"HoverTool\"},{\"attributes\":{\"tools\":[{\"id\":\"1006\"},{\"id\":\"1024\"},{\"id\":\"1025\"},{\"id\":\"1026\"},{\"id\":\"1027\"},{\"id\":\"1028\"}]},\"id\":\"1030\",\"type\":\"Toolbar\"},{\"attributes\":{\"children\":[{\"id\":\"1003\"},{\"id\":\"1007\"},{\"id\":\"1096\"}],\"margin\":[0,0,0,0],\"name\":\"Row01629\",\"tags\":[\"embedded\"]},\"id\":\"1002\",\"type\":\"Row\"},{\"attributes\":{\"axis_label\":\"time\",\"coordinates\":null,\"formatter\":{\"id\":\"1047\"},\"group\":null,\"major_label_policy\":{\"id\":\"1048\"},\"ticker\":{\"id\":\"1017\"}},\"id\":\"1016\",\"type\":\"DatetimeAxis\"},{\"attributes\":{\"below\":[{\"id\":\"1016\"}],\"center\":[{\"id\":\"1019\"},{\"id\":\"1023\"}],\"height\":300,\"left\":[{\"id\":\"1020\"}],\"margin\":[5,5,5,5],\"min_border_bottom\":10,\"min_border_left\":10,\"min_border_right\":10,\"min_border_top\":10,\"renderers\":[{\"id\":\"1043\"}],\"sizing_mode\":\"fixed\",\"title\":{\"id\":\"1008\"},\"toolbar\":{\"id\":\"1030\"},\"width\":900,\"x_range\":{\"id\":\"1004\"},\"x_scale\":{\"id\":\"1012\"},\"y_range\":{\"id\":\"1005\"},\"y_scale\":{\"id\":\"1014\"}},\"id\":\"1007\",\"subtype\":\"Figure\",\"type\":\"Plot\"},{\"attributes\":{\"data\":{\"Band1\":{\"__ndarray__\":\"TCsQQ92lDkPudQ1DlnYMQ3aUC0NJyQpDRQkKQ4ZSCUO4pAhDkgEIQ7BqB0Mk1wZDKEoGQ9zEBUOORwVDWNIEQzplBEOg/wNDFaEDQ0BJA0Pm9wJD06wCQ7NnAkOUKAJDVpQBQ9duAUNyOQFD1gkBQ4HgAEMWvABDa5sAQ419AEOjYgBD3EoAQxI2AEMNJABDiRQAQzwHAEPQ9/9CguT/QhbU/0LIxf9CVrn/QrGt/0LDov9CzJf/QtyL/0LBfv9Cjrn+Qhy6/kJ1lv5CMnX+Qv9R/kJJLf5CAQb+Qinb/ULSq/1CYnf9Qkw9/UI6/fxC+7b8Qnpq/EK3F/xCub77QlFf+0Kg+fpCuY36QqYb+kKio/lCbCX5QlOk+EIILPhCHBz3QirU9kKKUPZC8MD1Qsgn9UKUg/RCUNjzQvkp80KmePJC0MPxQiYM8UIQUvBCyZbvQuTZ7kLBHO5CLl/tQkmh7EIG5OtCSyfrQtRq6kKcr+lCFPfoQghC6EJQlOdCsFDmQu7F5UIGFOVCpH/kQg8l5EKYruNCVRjjQrl04kIb0+FCmDbhQrmg4EKDEeBCzYXfQhL93kLyd95CevfdQgl93UIWCd1CeZvcQpw03EKx1NtCkHvbQlYp20IJ3tpCNQXaQiHR2UJWjNlCVlTZQsgk2ULi/dhCqODYQnvO2ELDw9hCZMHYQgfH2EK8zthCgdrYQn3r2EIRAtlCJh7ZQlA/2UJHZdlCcY/ZQly92UJH7tlChCHaQlhW2kIHjNpC\",\"dtype\":\"float32\",\"order\":\"little\",\"shape\":[144]},\"time\":{\"__ndarray__\":\"AAB4xicYeEIAAGA1Kxh4QgAASKQuGHhCAAAwEzIYeEIAABiCNRh4QgAAAPE4GHhCAADoXzwYeEIAANDOPxh4QgAAuD1DGHhCAACgrEYYeEIAAIgbShh4QgAAcIpNGHhCAABY+VAYeEIAAEBoVBh4QgAAKNdXGHhCAAAQRlsYeEIAAPi0Xhh4QgAA4CNiGHhCAADIkmUYeEIAALABaRh4QgAAmHBsGHhCAACA328YeEIAAGhOcxh4QgAAUL12GHhCAAA4LHoYeEIAACCbfRh4QgAACAqBGHhCAADweIQYeEIAANjnhxh4QgAAwFaLGHhCAACoxY4YeEIAAJA0khh4QgAAeKOVGHhCAABgEpkYeEIAAEiBnBh4QgAAMPCfGHhCAAAYX6MYeEIAAADOphh4QgAA6DyqGHhCAADQq60YeEIAALgasRh4QgAAoIm0GHhCAACI+LcYeEIAAHBnuxh4QgAAWNa+GHhCAABARcIYeEIAACi0xRh4QgAAECPJGHhCAAD4kcwYeEIAAOAA0Bh4QgAAyG/TGHhCAACw3tYYeEIAAJhN2hh4QgAAgLzdGHhCAABoK+EYeEIAAFCa5Bh4QgAAOAnoGHhCAAAgeOsYeEIAAAjn7hh4QgAA8FXyGHhCAADYxPUYeEIAAMAz+Rh4QgAAqKL8GHhCAACQEQAZeEIAAHiAAxl4QgAAYO8GGXhCAABIXgoZeEIAADDNDRl4QgAAGDwRGXhCAAAAqxQZeEIAAOgZGBl4QgAA0IgbGXhCAAC49x4ZeEIAAKBmIhl4QgAAiNUlGXhCAABwRCkZeEIAAFizLBl4QgAAQCIwGXhCAAAokTMZeEIAABAANxl4QgAA+G46GXhCAADg3T0ZeEIAAMhMQRl4QgAAsLtEGXhCAACYKkgZeEIAAICZSxl4QgAAaAhPGXhCAABQd1IZeEIAADjmVRl4QgAAIFVZGXhCAAAIxFwZeEIAAPAyYBl4QgAA2KFjGXhCAADAEGcZeEIAAKh/ahl4QgAAkO5tGXhCAAB4XXEZeEIAAGDMdBl4QgAASDt4GXhCAAAwqnsZeEIAABgZfxl4QgAAAIiCGXhCAADo9oUZeEIAANBliRl4QgAAuNSMGXhCAACgQ5AZeEIAAIiykxl4QgAAcCGXGXhCAABYkJoZeEIAAED/nRl4QgAAKG6hGXhCAAAQ3aQZeEIAAPhLqBl4QgAA4LqrGXhCAADIKa8ZeEIAALCYshl4QgAAmAe2GXhCAACAdrkZeEIAAGjlvBl4QgAAUFTAGXhCAAA4w8MZeEIAACAyxxl4QgAACKHKGXhCAADwD84ZeEIAANh+0Rl4QgAAwO3UGXhCAACoXNgZeEIAAJDL2xl4QgAAeDrfGXhCAABgqeIZeEIAAEgY5hl4QgAAMIfpGXhCAAAY9uwZeEIAAABl8Bl4QgAA6NPzGXhCAADQQvcZeEIAALix+hl4QgAAoCD+GXhCAACIjwEaeEIAAHD+BBp4QgAAWG0IGnhCAABA3AsaeEIAAChLDxp4QgAAELoSGnhC\",\"dtype\":\"float64\",\"order\":\"little\",\"shape\":[144]}},\"selected\":{\"id\":\"1038\"},\"selection_policy\":{\"id\":\"1059\"}},\"id\":\"1037\",\"type\":\"ColumnDataSource\"},{\"attributes\":{},\"id\":\"1025\",\"type\":\"PanTool\"},{\"attributes\":{\"axis_label\":\"River Discharge (m3/s)\",\"coordinates\":null,\"formatter\":{\"id\":\"1050\"},\"group\":null,\"major_label_policy\":{\"id\":\"1051\"},\"ticker\":{\"id\":\"1021\"}},\"id\":\"1020\",\"type\":\"LinearAxis\"},{\"attributes\":{},\"id\":\"1012\",\"type\":\"LinearScale\"},{\"attributes\":{},\"id\":\"1021\",\"type\":\"BasicTicker\"},{\"attributes\":{},\"id\":\"1024\",\"type\":\"SaveTool\"},{\"attributes\":{\"num_minor_ticks\":5,\"tickers\":[{\"id\":\"1062\"},{\"id\":\"1063\"},{\"id\":\"1064\"},{\"id\":\"1065\"},{\"id\":\"1066\"},{\"id\":\"1067\"},{\"id\":\"1068\"},{\"id\":\"1069\"},{\"id\":\"1070\"},{\"id\":\"1071\"},{\"id\":\"1072\"},{\"id\":\"1073\"}]},\"id\":\"1017\",\"type\":\"DatetimeTicker\"},{\"attributes\":{},\"id\":\"1026\",\"type\":\"WheelZoomTool\"},{\"attributes\":{},\"id\":\"1059\",\"type\":\"UnionRenderers\"},{\"attributes\":{\"days\":[1,8,15,22]},\"id\":\"1067\",\"type\":\"DaysTicker\"},{\"attributes\":{},\"id\":\"1028\",\"type\":\"ResetTool\"},{\"attributes\":{\"overlay\":{\"id\":\"1029\"}},\"id\":\"1027\",\"type\":\"BoxZoomTool\"},{\"attributes\":{\"margin\":[5,5,5,5],\"name\":\"HSpacer01634\",\"sizing_mode\":\"stretch_width\"},\"id\":\"1096\",\"type\":\"Spacer\"},{\"attributes\":{\"line_alpha\":0.1,\"line_color\":\"#30a2da\",\"line_width\":2,\"x\":{\"field\":\"time\"},\"y\":{\"field\":\"Band1\"}},\"id\":\"1041\",\"type\":\"Line\"},{\"attributes\":{},\"id\":\"1047\",\"type\":\"DatetimeTickFormatter\"},{\"attributes\":{\"source\":{\"id\":\"1037\"}},\"id\":\"1044\",\"type\":\"CDSView\"},{\"attributes\":{\"mantissas\":[1,2,5],\"max_interval\":500.0,\"num_minor_ticks\":0},\"id\":\"1062\",\"type\":\"AdaptiveTicker\"},{\"attributes\":{\"days\":[1,15]},\"id\":\"1068\",\"type\":\"DaysTicker\"},{\"attributes\":{\"coordinates\":null,\"data_source\":{\"id\":\"1037\"},\"glyph\":{\"id\":\"1040\"},\"group\":null,\"hover_glyph\":null,\"muted_glyph\":{\"id\":\"1042\"},\"nonselection_glyph\":{\"id\":\"1041\"},\"selection_glyph\":{\"id\":\"1045\"},\"view\":{\"id\":\"1044\"}},\"id\":\"1043\",\"type\":\"GlyphRenderer\"},{\"attributes\":{\"days\":[1,2,3,4,5,6,7,8,9,10,11,12,13,14,15,16,17,18,19,20,21,22,23,24,25,26,27,28,29,30,31]},\"id\":\"1065\",\"type\":\"DaysTicker\"},{\"attributes\":{\"base\":24,\"mantissas\":[1,2,4,6,8,12],\"max_interval\":43200000.0,\"min_interval\":3600000.0,\"num_minor_ticks\":0},\"id\":\"1064\",\"type\":\"AdaptiveTicker\"},{\"attributes\":{\"months\":[0,1,2,3,4,5,6,7,8,9,10,11]},\"id\":\"1069\",\"type\":\"MonthsTicker\"},{\"attributes\":{\"line_color\":\"#30a2da\",\"line_width\":2,\"x\":{\"field\":\"time\"},\"y\":{\"field\":\"Band1\"}},\"id\":\"1045\",\"type\":\"Line\"},{\"attributes\":{\"line_color\":\"#30a2da\",\"line_width\":2,\"x\":{\"field\":\"time\"},\"y\":{\"field\":\"Band1\"}},\"id\":\"1040\",\"type\":\"Line\"},{\"attributes\":{\"days\":[1,4,7,10,13,16,19,22,25,28]},\"id\":\"1066\",\"type\":\"DaysTicker\"}],\"root_ids\":[\"1002\"]},\"title\":\"Bokeh Application\",\"version\":\"2.4.1\"}};\n",
       "    var render_items = [{\"docid\":\"7abc8055-7e07-4a4c-a730-83b78483de37\",\"root_ids\":[\"1002\"],\"roots\":{\"1002\":\"956e5005-adc3-42d9-b6f2-d4ae938266b0\"}}];\n",
       "    root.Bokeh.embed.embed_items_notebook(docs_json, render_items);\n",
       "  }\n",
       "  if (root.Bokeh !== undefined && root.Bokeh.Panel !== undefined) {\n",
       "    embed_document(root);\n",
       "  } else {\n",
       "    var attempts = 0;\n",
       "    var timer = setInterval(function(root) {\n",
       "      if (root.Bokeh !== undefined && root.Bokeh.Panel !== undefined) {\n",
       "        clearInterval(timer);\n",
       "        embed_document(root);\n",
       "      } else if (document.readyState == \"complete\") {\n",
       "        attempts++;\n",
       "        if (attempts > 200) {\n",
       "          clearInterval(timer);\n",
       "          console.log(\"Bokeh: ERROR: Unable to run BokehJS code because BokehJS library is missing\");\n",
       "        }\n",
       "      }\n",
       "    }, 25, root)\n",
       "  }\n",
       "})(window);</script>"
      ],
      "text/plain": [
       ":Curve   [time]   (Band1)"
      ]
     },
     "execution_count": 11,
     "metadata": {
      "application/vnd.holoviews_exec.v0+json": {
       "id": "1002"
      }
     },
     "output_type": "execute_result"
    }
   ],
   "source": [
    "# plot the data\n",
    "station = fcasts.sel(lat=lat, lon=lon)\n",
    "station.hvplot(title='Sturgeon River at McDougall Mills | '+ll_info, ylabel='River Discharge (m3/s)', width=900)"
   ]
  }
 ],
 "metadata": {
  "kernelspec": {
   "display_name": "Python 3 (ipykernel)",
   "language": "python",
   "name": "python3"
  },
  "language_info": {
   "codemirror_mode": {
    "name": "ipython",
    "version": 3
   },
   "file_extension": ".py",
   "mimetype": "text/x-python",
   "name": "python",
   "nbconvert_exporter": "python",
   "pygments_lexer": "ipython3",
   "version": "3.9.16"
  }
 },
 "nbformat": 4,
 "nbformat_minor": 5
}
