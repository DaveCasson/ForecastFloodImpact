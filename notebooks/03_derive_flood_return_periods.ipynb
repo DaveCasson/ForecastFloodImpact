{
 "cells": [
  {
   "attachments": {},
   "cell_type": "markdown",
   "id": "c537343a",
   "metadata": {},
   "source": []
  },
  {
   "attachments": {},
   "cell_type": "markdown",
   "id": "b2bfeb70-97fb-4ebe-8d81-7a542c09edfd",
   "metadata": {},
   "source": [
    "# Calculate forecasted and realtime return periods\n",
    "\n",
    "This notebook derives near-realtime and forecasted return periods for gauges of interest.\n",
    "\n",
    "This is for demonstration purposes only and not for operational decision making.\n",
    "\n"
   ]
  },
  {
   "attachments": {},
   "cell_type": "markdown",
   "id": "1bd2f3fc",
   "metadata": {},
   "source": [
    "### Import Modules"
   ]
  },
  {
   "cell_type": "code",
   "execution_count": null,
   "id": "b4f3f7c7-4e0c-46f3-b13f-6287c15f69a1",
   "metadata": {},
   "outputs": [],
   "source": [
    "from pathlib import Path\n",
    "import pandas as pd\n",
    "import yaml\n",
    "from matplotlib import pyplot as plt\n",
    "import sys\n",
    "sys.path.append('../scripts')\n",
    "from hydrograph_plotting import plot_detailed_hydrograph\n",
    "from nsrps_data_access import bias_correct_forecast\n",
    "from calculate_return_periods import calculate_return_periods, plot_exceedance\n",
    "\n",
    "# add autoreload to automatically reload modules when they change\n",
    "%load_ext autoreload\n",
    "%autoreload 2"
   ]
  },
  {
   "attachments": {},
   "cell_type": "markdown",
   "id": "53f9c5cd",
   "metadata": {},
   "source": [
    "### Read settings from configuration file"
   ]
  },
  {
   "cell_type": "code",
   "execution_count": null,
   "id": "5169e6b3",
   "metadata": {},
   "outputs": [],
   "source": [
    "config_file = \"../settings/general_settings.yaml\"\n",
    "\n",
    "# Read settings from yaml file\n",
    "with open(config_file, 'r') as ymlfile:\n",
    "    config = yaml.load(ymlfile, Loader=yaml.FullLoader)\n",
    "\n",
    "# Set variables, this can be replaced by a config file. To be discussed\n",
    "api_url = config['msc_open_data_settings']['api_url']\n",
    "\n",
    "# Set up paths \n",
    "gis_data_dir = config['paths']['gis_data']\n",
    "output_base_dir = Path(config['paths']['output_dir'])\n",
    "output_base_dir.mkdir(parents=True, exist_ok=True)\n",
    "output_base_dir = output_base_dir.resolve()\n",
    "\n",
    "# Set up paths to gis data\n",
    "stations_csv = Path(gis_data_dir, config['gis_data']['hydro_stns_csv'])\n",
    "nsrps_station_location_csv = Path(gis_data_dir, config['gis_data']['nsrps_stns_csv'])\n",
    "watershed_shp = Path(gis_data_dir, config['gis_data']['basins_shp'])\n",
    "flowlines_shp = Path(gis_data_dir, config['gis_data']['flowlines_shp'])\n",
    "\n",
    "# Read in the list of hydrometric stations\n",
    "hydro_stations_df = pd.read_csv(stations_csv)\n",
    "search_stations = hydro_stations_df[\"ID\"].tolist()"
   ]
  },
  {
   "attachments": {},
   "cell_type": "markdown",
   "id": "082bf7d1",
   "metadata": {},
   "source": [
    "### Plot real time and forecasted data, relative to derived return periods"
   ]
  },
  {
   "cell_type": "code",
   "execution_count": null,
   "id": "2cf234ea",
   "metadata": {},
   "outputs": [],
   "source": [
    "variable = 'DISCHARGE'\n",
    "station = '05BB001'\n",
    "bias_correct = True\n",
    "\n",
    "output_return_period_dir = Path(output_base_dir, 'observed_and_forecasted_return_periods')\n",
    "output_return_period_dir.mkdir(parents=True, exist_ok=True)"
   ]
  },
  {
   "cell_type": "code",
   "execution_count": null,
   "id": "9bf7c1ee",
   "metadata": {},
   "outputs": [],
   "source": [
    "real_time_level_stations = search_stations\n",
    "historic_level_stations = search_stations\n",
    "\n",
    "for station_id in real_time_level_stations:\n",
    "    if station_id not in historic_level_stations:\n",
    "        continue\n",
    "\n",
    "    historic_df = pd.read_csv(Path(output_base_dir,f'hydrometric-daily-mean/{station_id}_{variable}.csv'))\n",
    "    realtime_df = pd.read_csv(Path(output_base_dir,f'hydrometric-realtime/{station_id}_{variable}.csv'))\n",
    "    forecast_df = pd.read_csv(Path(output_base_dir,f'DHPS_1km_RiverDischarge/{station_id}_forecast.csv'))\n",
    "    analysis_df = pd.read_csv(Path(output_base_dir,f'DHPS-Analysis_1km_RiverDischarge/{station_id}_analysis.csv'))\n",
    "    threshold_csv = Path(output_base_dir, f'../flood_frequency_analysis/ffa_summary_for_tool.csv').resolve()\n",
    "    threshold_df = pd.read_csv(threshold_csv)\n",
    "\n",
    "    if bias_correct:\n",
    "        forecast_bias_corrected_df = bias_correct_forecast(realtime_df, forecast_df)\n",
    "        #calc_and_output_return_periods(realtime_df,forecast_bias_corrected_df, station_id, threshold_df, forecast_bias_corrected_df, output_return_period_dir)\n",
    "    else:\n",
    "        forecast_bias_corrected_df = None\n",
    "        #calc_and_output_return_periods(realtime_df,forecast_df, station_id, threshold_df, forecast_bias_corrected_df, output_return_period_dir)\n",
    "\n",
    "    plot_detailed_hydrograph(station_id,variable, historic_df, realtime_df, forecast_df, analysis_df,threshold_df,forecast_bias_corrected_df)\n",
    "\n",
    "    return_level_df = calculate_return_periods(realtime_df, forecast_df, threshold_df, station_id)\n",
    "    return_level_df.to_csv(Path(output_return_period_dir,f'{station_id}_return_periods.csv'))\n",
    "    plot_exceedance(return_level_df, station_id)\n",
    "    \n",
    "    "
   ]
  }
 ],
 "metadata": {
  "kernelspec": {
   "display_name": "Python 3 (ipykernel)",
   "language": "python",
   "name": "python3"
  },
  "language_info": {
   "codemirror_mode": {
    "name": "ipython",
    "version": 3
   },
   "file_extension": ".py",
   "mimetype": "text/x-python",
   "name": "python",
   "nbconvert_exporter": "python",
   "pygments_lexer": "ipython3",
   "version": "3.9.16"
  }
 },
 "nbformat": 4,
 "nbformat_minor": 5
}
